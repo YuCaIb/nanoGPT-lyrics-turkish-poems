import pandas as pd


df = pd.read_csv('million_song.csv')


df= pd.read_csv("million_song.csv")
data = df['text'].str.cat(sep="\n")


data


df
