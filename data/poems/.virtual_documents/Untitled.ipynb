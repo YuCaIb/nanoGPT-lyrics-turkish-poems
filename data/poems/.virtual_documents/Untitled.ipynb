import pandas as pd


df = pd.read_csv('turkish_poems.csv')


data = df['content'].str.cat(sep="\n")


data



